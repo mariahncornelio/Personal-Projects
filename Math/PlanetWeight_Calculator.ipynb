{
 "cells": [
  {
   "cell_type": "markdown",
   "id": "b6dc4daf",
   "metadata": {},
   "source": [
    "# Calculating weight on planets of the solar system \n",
    "### **Author:** Mariah Noelle Cornelio\n",
    "### **Date:** September 17, 2024\n",
    "### **Finished:** October 4, 2024\n",
    "___"
   ]
  },
  {
   "cell_type": "markdown",
   "id": "623eec5d",
   "metadata": {},
   "source": [
    "By NASA's consideration, we have 8 planets in our solar system: Mercury, Venus, Earth, Mars, Jupiter, Saturn, Uranus, and Neptune. Pluto is considered a dwarf planet, but it will be included in this project as a bonus."
   ]
  },
  {
   "cell_type": "markdown",
   "id": "db7b2ddc",
   "metadata": {},
   "source": [
    "To calculate one's weight on Earth using formula W=mg, where:"
   ]
  },
  {
   "cell_type": "markdown",
   "id": "c37f68e1",
   "metadata": {},
   "source": [
    "- W = weight in Newtons\n",
    "- m = mass in kilograms\n",
    "- g = the planet's surface gravity"
   ]
  },
  {
   "cell_type": "markdown",
   "id": "c9ce670e",
   "metadata": {},
   "source": [
    "Not everyone may know their mass in kilograms but the good thing is that an individual's mass will always be the same no matter where they are on what planet. The weight is what changes because of the planet's gravitational pull, which varies between planets."
   ]
  },
  {
   "cell_type": "markdown",
   "id": "eacc500d",
   "metadata": {},
   "source": [
    "If you don't know your mass in kilograms, you can convert your metric/imperial weight to Newtons using the conversion factor and solve for m. Once mass is known, you can solve for your weight on different planets!\n",
    "___"
   ]
  },
  {
   "cell_type": "markdown",
   "id": "731322be",
   "metadata": {},
   "source": [
    "### Making the conversion functions"
   ]
  },
  {
   "cell_type": "code",
   "execution_count": 49,
   "id": "78c657f2",
   "metadata": {},
   "outputs": [],
   "source": [
    "def lbs_to_N(lbs):\n",
    "    # 1 lb = 4.448 N\n",
    "    return round(lbs*4.448,2)\n",
    "    \n",
    "def kg_to_N(kg):\n",
    "    # 1 kg = 9.81N\n",
    "    return round(kg*9.81,2)\n",
    "    \n",
    "def N_to_lbs(N):\n",
    "    return round(N*0.224809,2)\n",
    "    \n",
    "def N_to_kg(N):\n",
    "    return round(N*0.10197,2)\n",
    "\n",
    "def lbs_to_kg(lbs):\n",
    "    return round(lbs*0.45359237,2)"
   ]
  },
  {
   "cell_type": "code",
   "execution_count": 50,
   "id": "258d66a4",
   "metadata": {},
   "outputs": [
    {
     "name": "stdout",
     "output_type": "stream",
     "text": [
      "58.06\n"
     ]
    }
   ],
   "source": [
    "## Test\n",
    "\n",
    "lbs2kg=lbs_to_kg(128)\n",
    "print(lbs2kg)\n"
   ]
  },
  {
   "cell_type": "markdown",
   "id": "7f6053b6",
   "metadata": {},
   "source": [
    "### Find your mass on Earth function"
   ]
  },
  {
   "cell_type": "code",
   "execution_count": 51,
   "id": "e7d92897",
   "metadata": {},
   "outputs": [],
   "source": [
    "val_resp_imperial=[\"imperial\", \"Imperial\", \"imperial \", \"Imperial \", \"lbs\", \"IMPERIAL\", \"IMPERIAL \", \"LBS\", \"LBS \", \"lbs \", \"imp\", \"imp \", \"Imp \", \"Imp\", \"IMP\", \"IMP \"]\n",
    "val_resp_metric=[\"metric\", \"Metric\", \"metric \", \"Metric \", \"kg\", \"METRIC\", \"METRIC \", \"KG\", \"KG \", \"kg \", \"met\", \"met \", \"Met\", \"Met \", \"MET\", \"MET \"]\n",
    "\n",
    "def Earth_mass_finder():\n",
    "    valid_response=False\n",
    "    while not valid_response:\n",
    "        imp_or_met=input(\"\\nAre you using the imperial (lbs) or metric system (kg)? Specify 'Imperial' or 'Metric': \\n\")\n",
    "        if imp_or_met in val_resp_imperial:\n",
    "            # Keeps asking \n",
    "            while True:\n",
    "                user_input = input(\"\\nHow much do you weigh in pounds? Input a number: \")\n",
    "                if user_input.lower() in [\"q\", \"quit\"]:\n",
    "                    print(\"\\n Exiting... Thank you for playing!\\n\")\n",
    "                    return\n",
    "                try:\n",
    "                    pounds=float(user_input)\n",
    "                    break\n",
    "                except ValueError:\n",
    "                    print(\"\\nInvalid input. Please enter a valid number.\\n\")\n",
    "            pound2kg=lbs_to_kg(pounds)\n",
    "            Weight=kg_to_N(pound2kg)\n",
    "            g=9.80665\n",
    "            m=Weight/g\n",
    "            valid_response=True\n",
    "            print(\"\\nYour mass in kilograms is:\")\n",
    "            return m\n",
    "        elif imp_or_met in val_resp_metric:\n",
    "            while True:\n",
    "                user_input=input(\"\\nHow much do you weigh in kilograms? Input a number: \")\n",
    "                if user_input.lower() in [\"q\", \"quit\"]:\n",
    "                    print(\"Exiting...\")\n",
    "                    return\n",
    "                try:\n",
    "                    kg=float(user_input)\n",
    "                    break\n",
    "                except ValueError:\n",
    "                    print(\"\\nInvalid input. Please enter a valid number.\\n\")\n",
    "            \n",
    "            g=9.80665\n",
    "            Weight=kg_to_N(kg)\n",
    "            m=Weight/g\n",
    "            valid_response=True\n",
    "            print(\"\\nYour mass in kilograms is:\")\n",
    "            return m\n",
    "        elif imp_or_met.lower() in [\"q\", \"quit\"]:\n",
    "            print(\"\\nExiting... Thanks for playing!\\n\")\n",
    "            return\n",
    "    else:\n",
    "        return \"\\nInvalid answer. Please choose either imperial or metric.\\n\""
   ]
  },
  {
   "cell_type": "code",
   "execution_count": 52,
   "id": "1ebc8b60",
   "metadata": {},
   "outputs": [
    {
     "name": "stdout",
     "output_type": "stream",
     "text": [
      "\n",
      "Are you using the imperial (lbs) or metric system (kg)? Specify 'Imperial' or 'Metric': \n",
      "imperial\n",
      "\n",
      "How much do you weigh in pounds? Input a number: 128\n",
      "\n",
      "Your mass in kilograms is:\n"
     ]
    },
    {
     "data": {
      "text/plain": [
       "58.07997634258387"
      ]
     },
     "execution_count": 52,
     "metadata": {},
     "output_type": "execute_result"
    }
   ],
   "source": [
    "## Test\n",
    "Earth_mass_finder()"
   ]
  },
  {
   "cell_type": "markdown",
   "id": "7223728a",
   "metadata": {},
   "source": [
    "### Find your weight on different planets"
   ]
  },
  {
   "cell_type": "code",
   "execution_count": 53,
   "id": "8536f810",
   "metadata": {},
   "outputs": [],
   "source": [
    "def Merc_weight_finder(m):\n",
    "    g=3.7 # The planet's surface gravity, similar to Mars\n",
    "    Merc_weight=m*g\n",
    "    return round(Merc_weight,2)\n",
    "\n",
    "def Ven_weight_finder(m):\n",
    "    g=8.87 # Same as Uranus\n",
    "    Ven_weight=m*g\n",
    "    return round(Ven_weight,2)\n",
    "\n",
    "def Earth_weight_finder(m):\n",
    "    g=9.81\n",
    "    Earth_weight=m*g\n",
    "    return round(Earth_weight,2)\n",
    "\n",
    "def Mars_weight_finder(m):\n",
    "    g=3.71\n",
    "    Mars_weight=m*g\n",
    "    return round(Mars_weight,2)\n",
    "\n",
    "def Jup_weight_finder(m):\n",
    "    g=24.79\n",
    "    Jup_weight=m*g\n",
    "    return round(Jup_weight,2)\n",
    "\n",
    "def Sat_weight_finder(m):\n",
    "    g=10.44\n",
    "    Sat_weight=m*g\n",
    "    return round(Sat_weight,2)\n",
    "\n",
    "def Uranus_weight_finder(m):\n",
    "    g=8.87\n",
    "    Uranus_weight=m*g\n",
    "    return round(Uranus_weight,2)\n",
    "\n",
    "def Nept_weight_finder(m):\n",
    "    g=11.15\n",
    "    Nept_weight=m*g\n",
    "    return round(Nept_weight,2)\n",
    "\n",
    "def Pluto_weight_finder(m):\n",
    "    g=0.62 # So little!\n",
    "    Pluto_weight=m*g\n",
    "    return round(Pluto_weight,2)"
   ]
  },
  {
   "cell_type": "code",
   "execution_count": 54,
   "id": "d8b7e6a6",
   "metadata": {},
   "outputs": [
    {
     "name": "stdout",
     "output_type": "stream",
     "text": [
      "On Earth, your weight in Newtons is 569.76 N\n",
      "On Earth, your weight in pounds is 128.09 lbs\n",
      "On Earth, your weight in kilograms is 58.1 kg\n"
     ]
    }
   ],
   "source": [
    "## Test\n",
    "\n",
    "m=58.07965688197295\n",
    "myEarthweightN=Earth_weight_finder(m)\n",
    "print(\"On Earth, your weight in Newtons is\", myEarthweightN, \"N\")\n",
    "myEarthWeight=N_to_lbs(myEarthweightN)\n",
    "myEarthWeightkg=N_to_kg(myEarthweightN)\n",
    "print(\"On Earth, your weight in pounds is\", myEarthWeight, \"lbs\")\n",
    "print(\"On Earth, your weight in kilograms is\", myEarthWeightkg, \"kg\")\n",
    "\n",
    "# Yes, I can confirm that this is true\n"
   ]
  },
  {
   "cell_type": "markdown",
   "id": "bdc3065c",
   "metadata": {},
   "source": [
    "### Weight calculator pipeline rough roadmap/sketch"
   ]
  },
  {
   "cell_type": "markdown",
   "id": "a08719fa",
   "metadata": {},
   "source": [
    "1) Define function\n",
    "2) Make it so that the user can quit anytime\n",
    "3) Ask if metric or imperial system is being used and input weight \n",
    "4) If imperial, then change to metric \n",
    "5) Find mass on Earth and store that mass to later recall \n",
    "6) Ask if they want to see it in imperial system or stay in metric\n",
    "7) Make sure to convert Newtons to either pounds or kilograms     \n",
    "8) Ask if user is ready to see weight on each planet and if yes, show\n",
    "9) If imperial, convert values to pounds\n",
    "10) Thanks for using message!\n"
   ]
  },
  {
   "cell_type": "markdown",
   "id": "f5d868f2",
   "metadata": {},
   "source": [
    "### Weight calculator pipeline"
   ]
  },
  {
   "cell_type": "code",
   "execution_count": 55,
   "id": "a117ab1c",
   "metadata": {},
   "outputs": [],
   "source": [
    "val_resp_resultanswer = [\"yes\", \"yes \", \"Yes\", \"Yes \", \"Y\", \"Y \", \"y\", \"y \", \"YES\", \"YES \", \"yas\", \"YASSS\", \"yasss\", \"yep\", \"mhm\", \"Mhm\", \"yup\", \"Yup\", \"ye\", \"Ye\"]\n",
    "val_resp_kgorlbs_lbs = [\"lbs\", \"lbs \", \"pounds\", \"pounds \", \"Pounds\", \"Pounds \", \"POUNDS\", \"POUNDS \", \"LBS\", \"LBS \"]\n",
    "val_resp_kgorlbs_kg = [\"kg\", \"kg \", \"kilgorams\", \"kilograms \", \"Kilograms\", \"Kilograms\", \"kilos\", \"KILO\", \"kilo\", \"kilos \", \"KILOS\", \"KILOGRAMS\", \"KILOGRAMS \", \"KG\", \"KG \"]\n",
    "\n",
    "def run_planet_calculator():\n",
    "    print(\"================= CALCULATE YOUR WEIGHT ON DIFFERENT PLANETS CALCULATOR =================\")\n",
    "    print(\"                     You can quit anytime by typing in 'Q' or 'Quit'             \")\n",
    "    m=Earth_mass_finder()\n",
    "    print(m)\n",
    "    if m is None:\n",
    "        return\n",
    "    while True:\n",
    "        kgorlbs = input(\"\\nDo you want to see your weight in pounds or kilograms? Specify 'Pounds' or 'Kilograms': \\n\").lower()\n",
    "        if kgorlbs.lower() in [\"q\", \"quit\"]:\n",
    "            print(\"\\nExiting... Thanks for playing!\\n\")\n",
    "            return\n",
    "        if kgorlbs in val_resp_kgorlbs_lbs or kgorlbs in val_resp_kgorlbs_kg:\n",
    "            break\n",
    "        else:\n",
    "            print(\"\\nInvalid response. Please specify 'Pounds' or 'Kilograms'.\")\n",
    "    resultanswer=input(\"\\n- - - - - - - - - - - - - Are you ready to see your results? - - - - - - - - - - - - -> \").lower()\n",
    "    if resultanswer.lower() in [\"q\", \"quit\"]:\n",
    "        print(\"\\nExiting... Thanks for playing!\\n\")\n",
    "        return\n",
    "    if kgorlbs in val_resp_kgorlbs_lbs:\n",
    "        if resultanswer in val_resp_resultanswer:\n",
    "            print(\"\\n- - - - - - - - - - - - - - - - - - - - - - - - - - - - - - - - - - - - - - - - - - - -\\n\")\n",
    "        else:\n",
    "            print(\"\\nOkay! Computing results anyways...\\n\")\n",
    "            print(\"\\n- - - - - - - - - - - - - - - - - - - - - - - - - - - - - - - - - - - - - - - - - - - -\\n\")\n",
    "        N_Merc=Merc_weight_finder(m)\n",
    "        N_Ven=Ven_weight_finder(m)\n",
    "        N_Earth=Earth_weight_finder(m)\n",
    "        N_Mars=Mars_weight_finder(m)\n",
    "        N_Jup=Jup_weight_finder(m)\n",
    "        N_Sat=Sat_weight_finder(m)\n",
    "        N_Uran=Uranus_weight_finder(m)\n",
    "        N_Nept=Nept_weight_finder(m)\n",
    "        N_Pluto=Pluto_weight_finder(m)\n",
    "        myMercWeight=N_to_lbs(N_Merc)\n",
    "        myVenWeight=N_to_lbs(N_Ven)\n",
    "        myEarthWeight=N_to_lbs(N_Earth)\n",
    "        myMarsWeight=N_to_lbs(N_Mars)\n",
    "        myJupWeight=N_to_lbs(N_Jup)\n",
    "        mySatWeight=N_to_lbs(N_Sat)\n",
    "        myUranWeight=N_to_lbs(N_Uran)\n",
    "        myNeptWeight=N_to_lbs(N_Nept)\n",
    "        myPlutoWeight=N_to_lbs(N_Pluto)\n",
    "        print(\"Mercury:\", myMercWeight, \"lbs\")\n",
    "        print(\"Venus:\", myVenWeight, \"lbs\")\n",
    "        print(\"Earth:\", myEarthWeight, \"lbs\")\n",
    "        print(\"Mars:\", myMarsWeight, \"lbs\")\n",
    "        print(\"Jupiter:\", myJupWeight, \"lbs\")\n",
    "        print(\"Saturn:\", mySatWeight, \"lbs\")\n",
    "        print(\"Uranus:\", myUranWeight, \"lbs\")\n",
    "        print(\"Neptune:\", myNeptWeight, \"lbs\")\n",
    "        print(\"Pluto:\", myPlutoWeight, \"lbs\")\n",
    "        print(\"\\n\")\n",
    "        print(\"=================================== THANKS FOR PLAYING ===================================\")\n",
    "    \n",
    "    elif kgorlbs in val_resp_kgorlbs_kg:\n",
    "        if resultanswer in val_resp_resultanswer:\n",
    "            print(\"\\n- - - - - - - - - - - - - - - - - - - - - - - - - - - - - - - - - - - - - - - - - - - -\\n\")\n",
    "        else:\n",
    "            print(\"\\nOkay! Computing results anyways...\\n\")\n",
    "            print(\"\\n- - - - - - - - - - - - - - - - - - - - - - - - - - - - - - - - - - - - - - - - - - - -\\n\")\n",
    "        N_Merc=Merc_weight_finder(m)\n",
    "        N_Ven=Ven_weight_finder(m)\n",
    "        N_Earth=Earth_weight_finder(m)\n",
    "        N_Mars=Mars_weight_finder(m)\n",
    "        N_Jup=Jup_weight_finder(m)\n",
    "        N_Sat=Sat_weight_finder(m)\n",
    "        N_Uran=Uranus_weight_finder(m)\n",
    "        N_Nept=Nept_weight_finder(m)\n",
    "        N_Pluto=Pluto_weight_finder(m)\n",
    "        myMercWeight=N_to_kg(N_Merc)\n",
    "        myVenWeight=N_to_kg(N_Ven)\n",
    "        myEarthWeight=N_to_kg(N_Earth)\n",
    "        myMarsWeight=N_to_kg(N_Mars)\n",
    "        myJupWeight=N_to_kg(N_Jup)\n",
    "        mySatWeight=N_to_kg(N_Sat)\n",
    "        myUranWeight=N_to_kg(N_Uran)\n",
    "        myNeptWeight=N_to_kg(N_Nept)\n",
    "        myPlutoWeight=N_to_kg(N_Pluto)\n",
    "        print(\"Mercury:\", myMercWeight, \"kg\")\n",
    "        print(\"Venus:\", myVenWeight, \"kg\")\n",
    "        print(\"Earth:\", myEarthWeight, \"kg\")\n",
    "        print(\"Mars:\", myMarsWeight, \"kg\")\n",
    "        print(\"Jupiter:\", myJupWeight, \"kg\")\n",
    "        print(\"Saturn:\", mySatWeight, \"kg\")\n",
    "        print(\"Uranus:\", myUranWeight, \"kg\")\n",
    "        print(\"Neptune:\", myNeptWeight, \"kg\")\n",
    "        print(\"Pluto:\", myPlutoWeight, \"kg\")\n",
    "        print(\"\\n\")\n",
    "        print(\"=================================== THANKS FOR PLAYING ===================================\")"
   ]
  },
  {
   "cell_type": "code",
   "execution_count": 56,
   "id": "958c7fa0",
   "metadata": {},
   "outputs": [
    {
     "name": "stdout",
     "output_type": "stream",
     "text": [
      "================= CALCULATE YOUR WEIGHT ON DIFFERENT PLANETS CALCULATOR =================\n",
      "                     You can quit anytime by typing in 'Q' or 'Quit'             \n",
      "\n",
      "Are you using the imperial (lbs) or metric system (kg)? Specify 'Imperial' or 'Metric': \n",
      "Imperial\n",
      "\n",
      "How much do you weigh in pounds? Input a number: 128\n",
      "\n",
      "Your mass in kilograms is:\n",
      "58.07997634258387\n",
      "\n",
      "Do you want to see your weight in pounds or kilograms? Specify 'Pounds' or 'Kilograms': \n",
      "Pounds\n",
      "\n",
      "- - - - - - - - - - - - - Are you ready to see your results? - - - - - - - - - - - - -> Yes\n",
      "\n",
      "- - - - - - - - - - - - - - - - - - - - - - - - - - - - - - - - - - - - - - - - - - - -\n",
      "\n",
      "Mercury: 48.31 lbs\n",
      "Venus: 115.81 lbs\n",
      "Earth: 128.09 lbs\n",
      "Mars: 48.44 lbs\n",
      "Jupiter: 323.68 lbs\n",
      "Saturn: 136.31 lbs\n",
      "Uranus: 115.81 lbs\n",
      "Neptune: 145.58 lbs\n",
      "Pluto: 8.1 lbs\n",
      "\n",
      "\n",
      "=================================== THANKS FOR PLAYING ===================================\n"
     ]
    }
   ],
   "source": [
    "## Test\n",
    "run_planet_calculator()"
   ]
  },
  {
   "cell_type": "markdown",
   "id": "40c2a808",
   "metadata": {},
   "source": [
    "### What I learned from this project"
   ]
  },
  {
   "cell_type": "markdown",
   "id": "c88d4c1b",
   "metadata": {},
   "source": [
    "- How to add a quit function any time \n",
    "- You can use while loops to keep looping until the correct answer is given\n",
    "- I could have put the conversion rates into a dictionary\n",
    "- I can make a helper function called display_weights so my code isn't overly long"
   ]
  }
 ],
 "metadata": {
  "kernelspec": {
   "display_name": "Python 3 (ipykernel)",
   "language": "python",
   "name": "python3"
  },
  "language_info": {
   "codemirror_mode": {
    "name": "ipython",
    "version": 3
   },
   "file_extension": ".py",
   "mimetype": "text/x-python",
   "name": "python",
   "nbconvert_exporter": "python",
   "pygments_lexer": "ipython3",
   "version": "3.11.4"
  }
 },
 "nbformat": 4,
 "nbformat_minor": 5
}
